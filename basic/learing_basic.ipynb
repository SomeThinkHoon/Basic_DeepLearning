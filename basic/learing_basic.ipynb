{
 "cells": [
  {
   "cell_type": "code",
   "execution_count": 1,
   "metadata": {},
   "outputs": [
    {
     "name": "stdout",
     "output_type": "stream",
     "text": [
      "[[0 0 1]\n",
      " [0 1 1]\n",
      " [1 0 1]\n",
      " [1 1 1]]\n",
      "----\n",
      "[[0]\n",
      " [0]\n",
      " [0]\n",
      " [2]]\n",
      "----\n",
      "[[0 0 1 1]\n",
      " [0 1 0 1]\n",
      " [1 1 1 1]]\n"
     ]
    }
   ],
   "source": [
    "import numpy as np\n",
    "\n",
    "X = np.array([[0, 0, 1],\n",
    "             [0, 1, 1],\n",
    "             [1, 0, 1],\n",
    "             [1, 1, 1]])\n",
    "\n",
    "D = np.array([[0], [0], [0], [2]])\n",
    "\n",
    "print(X)\n",
    "print('----')\n",
    "print(D)\n",
    "print('----')\n",
    "print(X.T)"
   ]
  },
  {
   "cell_type": "code",
   "execution_count": 2,
   "metadata": {},
   "outputs": [],
   "source": [
    "# sigmoid 정의\n",
    "\n",
    "def sigmoid(x):\n",
    "    return 1. / (1. + np.exp(-x))"
   ]
  },
  {
   "cell_type": "code",
   "execution_count": 3,
   "metadata": {},
   "outputs": [],
   "source": [
    "# 순방향 연산 함수\n",
    "\n",
    "def calc_output(W, x):\n",
    "    v = np.matmul(W, x)  # 행렬의 곱을 지원해주는 함수\n",
    "    y = sigmoid(v)\n",
    "    \n",
    "    return y"
   ]
  },
  {
   "cell_type": "code",
   "execution_count": 4,
   "metadata": {},
   "outputs": [],
   "source": [
    "# 여기서 에러를 이용한 기울기를 계산하는 함수\n",
    "# sigmoid 함수의 미분은 sigmoid*(1-sigmoid) 이다\n",
    "\n",
    "def calc_error(d,y):\n",
    "    e = d - y  # 참값에서 예측값을 뺸 것이 에러이다.\n",
    "    delta = y*(1-y)*e\n",
    "    \n",
    "    return delta"
   ]
  },
  {
   "cell_type": "code",
   "execution_count": 5,
   "metadata": {},
   "outputs": [],
   "source": [
    "## 그레이던트 디센트!!\n",
    "## 이 부분이 중요하다\n",
    "## 앞부분에서 2차 함수가 핑퐁하는 것을 그레디언트 디센트라고 한다.\n",
    "\n",
    "def delta_GD(W, X, D, alpha):\n",
    "    for k in range(4):  # range가 4인 이유는 위 X가 4개의 행으로 이루어졌기 때문이다.\n",
    "        x = X[k, :].T  # 행렬 의 Transpose  # 행렬의 곱을 위해 transpose를 시켜줌\n",
    "        d = D[k]\n",
    "        \n",
    "        y = calc_output(W, x)\n",
    "        delta = calc_error(d, y)\n",
    "        \n",
    "        dW = alpha*delta*x   # alpha의 역할은 얼만큼의 이동하는지 결정해준다.\n",
    "        W = W+dW  # 가중치를 업데이트 해주는 것이다.\n",
    "        \n",
    "    return W, delta\n",
    "\n",
    "# 하나의 Weight가 업데이트 하는 과정을 하나의 Epoch라고 한다."
   ]
  },
  {
   "cell_type": "code",
   "execution_count": 6,
   "metadata": {},
   "outputs": [
    {
     "name": "stdout",
     "output_type": "stream",
     "text": [
      "[[-0.37163242 -0.0202466   0.28135397]]\n",
      "[[ 4.01917582  3.9714618  -5.12073628]]\n",
      "[[ 5.1486331   5.12459915 -6.76438141]]\n",
      "[[ 5.81540835  5.79970191 -7.70628221]]\n",
      "[[ 6.28636495  6.2747613  -8.36297494]]\n",
      "[[ 6.64967039  6.64049211 -8.86580293]]\n",
      "[[ 6.94504339  6.93746217 -9.27261053]]\n",
      "[[ 7.19370719  7.18725514 -9.61388726]]\n",
      "[[ 7.40831278  7.40270038 -9.90763977]]\n",
      "[[  7.59700022   7.59203617 -10.16537567]]\n"
     ]
    }
   ],
   "source": [
    "## 학습하자!!\n",
    "\n",
    "W = 2* np.random.random((1, 3)) -1  # 0을 중앙에 놔두기 위해 기존에 0~1사이에 있는 랜덤 값을 2로 곱해준 후에 1을 빼준다.\n",
    "alpha = 0.9\n",
    "\n",
    "hist_W = []\n",
    "hist_loss = []\n",
    "\n",
    "for epoch in range(1000):\n",
    "    W, delta = delta_GD(W, X, D, alpha)\n",
    "    \n",
    "    hist_loss.append(delta)\n",
    "    hist_W.append(W)\n",
    "    \n",
    "    if epoch % 100 == 0:\n",
    "        print(W)"
   ]
  },
  {
   "cell_type": "code",
   "execution_count": 7,
   "metadata": {},
   "outputs": [
    {
     "data": {
      "image/png": "[encoded data removed]",
      "text/plain": [
       "<Figure size 432x288 with 1 Axes>"
      ]
     },
     "metadata": {
      "needs_background": "light"
     },
     "output_type": "display_data"
    }
   ],
   "source": [
    "## Epoch당 Loss의 변화\n",
    "\n",
    "import matplotlib.pyplot as plt\n",
    "\n",
    "plt.plot(hist_loss)\n",
    "plt.xlabel('epoch')\n",
    "plt.show()"
   ]
  },
  {
   "cell_type": "code",
   "execution_count": 8,
   "metadata": {},
   "outputs": [
    {
     "data": {
      "image/png": "[encoded data removed]",
      "text/plain": [
       "<Figure size 432x288 with 1 Axes>"
      ]
     },
     "metadata": {
      "needs_background": "light"
     },
     "output_type": "display_data"
    }
   ],
   "source": [
    "### 가중치의 변화!!\n",
    "\n",
    "plt.plot(np.array(hist_W).reshape(-1, 3));"
   ]
  },
  {
   "cell_type": "code",
   "execution_count": 9,
   "metadata": {},
   "outputs": [
    {
     "name": "stdout",
     "output_type": "stream",
     "text": [
      "[3.06540728e-05]\n",
      "[0.06701629]\n",
      "[0.06729527]\n",
      "[0.99411978]\n"
     ]
    }
   ],
   "source": [
    "N = 4\n",
    "for k in range(N):\n",
    "    x = X[k,:].T\n",
    "    y = calc_output(W,x)\n",
    "    \n",
    "    print(y)"
   ]
  },
  {
   "cell_type": "markdown",
   "metadata": {},
   "source": [
    "### 이제 XOR을 해보자!!"
   ]
  },
  {
   "cell_type": "code",
   "execution_count": 11,
   "metadata": {},
   "outputs": [],
   "source": [
    "## output 계산 함수\n",
    "\n",
    "def calc_output(W1, W2, x):\n",
    "    v1 = np.matmul(W1, x)\n",
    "    y1 = sigmoid(v1)\n",
    "    v = np.matmul(W2, y1)\n",
    "    y = sigmoid(v)\n",
    "    \n",
    "    return y, y1"
   ]
  },
  {
   "cell_type": "code",
   "execution_count": 12,
   "metadata": {},
   "outputs": [],
   "source": [
    "## 출력층 델타 함수\n",
    "\n",
    "def calc_delta(d, y):\n",
    "    e = d - y\n",
    "    delta = y*(1-y) * e\n",
    "    \n",
    "    return delta"
   ]
  },
  {
   "cell_type": "code",
   "execution_count": 13,
   "metadata": {},
   "outputs": [],
   "source": [
    "# 은닉층 델타 함수\n",
    "\n",
    "def calc_delta1(W2, delta, y1):\n",
    "    e1 = np.matmul(W2.T, delta)\n",
    "    delta1 = y1*(1-y1)* e1\n",
    "    \n",
    "    return delta1"
   ]
  },
  {
   "cell_type": "code",
   "execution_count": 14,
   "metadata": {},
   "outputs": [],
   "source": [
    "'''\n",
    "!!!! 역전파 알고리즘 코드 !!!!\n",
    "'''\n",
    "\n",
    "def backprop_XOR(W1, W2, X, D, alpha):\n",
    "    for k in range(4):\n",
    "        x = X[k, :].T\n",
    "        d = D[k]\n",
    "        \n",
    "        y, y1 = calc_output(W1, W2, x)\n",
    "        delta = calc_delta(d, y)\n",
    "        delta1 = calc_delta1(W2, delta, y1)\n",
    "        \n",
    "        dW1 = (alpha+delta1).reshape(4, 1) * x.reshape(1,3)\n",
    "        W1 = W1 + dW1\n",
    "        \n",
    "        dW2 = alpha * delta * y1\n",
    "        W2 = W2 + dW2\n",
    "        \n",
    "    return W1, W2"
   ]
  },
  {
   "cell_type": "code",
   "execution_count": 15,
   "metadata": {},
   "outputs": [],
   "source": [
    "### 데이터, 가중치 랜덤  준비\n",
    "\n",
    "X = np.array([[0,0,1],\n",
    "             [0, 1, 1],\n",
    "             [1, 0, 1],\n",
    "             [1, 1, 1]])\n",
    "\n",
    "D = np.array([[0], [1], [1], [0]])\n",
    "\n",
    "W1 = 2*np.random.random((4, 3)) -1   # 4행 3열 랜덤 가중치 생성\n",
    "W2 = 2*np.random.random((1, 4)) -1   # 1행 4열 랜덤 가중치 생성"
   ]
  },
  {
   "cell_type": "code",
   "execution_count": 16,
   "metadata": {},
   "outputs": [],
   "source": [
    "## 학습!!!\n",
    "\n",
    "alpha = 0.9\n",
    "for epoch in range(10000):\n",
    "    W1, W2 = backprop_XOR(W1, W2, X, D, alpha)"
   ]
  },
  {
   "cell_type": "code",
   "execution_count": 17,
   "metadata": {},
   "outputs": [
    {
     "name": "stdout",
     "output_type": "stream",
     "text": [
      "[0.48936057]\n",
      "[0.48936057]\n",
      "[0.48936057]\n",
      "[0.48936057]\n"
     ]
    }
   ],
   "source": [
    "## 결과 확인!!!\n",
    "\n",
    "N = 4\n",
    "for k in range(4):\n",
    "    x = X[k,:].T\n",
    "    v1 = np.matmul(W1, x)\n",
    "    y1 = sigmoid(v1)\n",
    "    v = np.matmul(W2, y1)\n",
    "    y = sigmoid(v)\n",
    "    print(y)"
   ]
  },
  {
   "cell_type": "code",
   "execution_count": null,
   "metadata": {},
   "outputs": [],
   "source": []
  }
 ],
 "metadata": {
  "kernelspec": {
   "display_name": "Python 3",
   "language": "python",
   "name": "python3"
  },
  "language_info": {
   "codemirror_mode": {
    "name": "ipython",
    "version": 3
   },
   "file_extension": ".py",
   "mimetype": "text/x-python",
   "name": "python",
   "nbconvert_exporter": "python",
   "pygments_lexer": "ipython3",
   "version": "3.8.10"
  }
 },
 "nbformat": 4,
 "nbformat_minor": 4
}
