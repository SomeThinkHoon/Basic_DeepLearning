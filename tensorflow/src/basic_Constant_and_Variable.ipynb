{
 "cells": [
  {
   "cell_type": "markdown",
   "id": "a6c5dfbf",
   "metadata": {},
   "source": [
    "# Tensorflow 기초\n",
    "\n",
    "## 상수와 변수 Constant ans Variable"
   ]
  },
  {
   "cell_type": "code",
   "execution_count": 1,
   "id": "a7a00cab",
   "metadata": {},
   "outputs": [
    {
     "name": "stderr",
     "output_type": "stream",
     "text": [
      "2022-11-28 16:54:16.276042: I tensorflow/core/platform/cpu_feature_guard.cc:193] This TensorFlow binary is optimized with oneAPI Deep Neural Network Library (oneDNN) to use the following CPU instructions in performance-critical operations:  AVX2 AVX512F AVX512_VNNI FMA\n",
      "To enable them in other operations, rebuild TensorFlow with the appropriate compiler flags.\n",
      "2022-11-28 16:54:16.370610: I tensorflow/core/util/port.cc:104] oneDNN custom operations are on. You may see slightly different numerical results due to floating-point round-off errors from different computation orders. To turn them off, set the environment variable `TF_ENABLE_ONEDNN_OPTS=0`.\n",
      "2022-11-28 16:54:16.789695: W tensorflow/compiler/xla/stream_executor/platform/default/dso_loader.cc:64] Could not load dynamic library 'libnvinfer.so.7'; dlerror: libnvinfer.so.7: cannot open shared object file: No such file or directory; LD_LIBRARY_PATH: :/usr/local/cuda-11.3/lib64\n",
      "2022-11-28 16:54:16.789736: W tensorflow/compiler/xla/stream_executor/platform/default/dso_loader.cc:64] Could not load dynamic library 'libnvinfer_plugin.so.7'; dlerror: libnvinfer_plugin.so.7: cannot open shared object file: No such file or directory; LD_LIBRARY_PATH: :/usr/local/cuda-11.3/lib64\n",
      "2022-11-28 16:54:16.789739: W tensorflow/compiler/tf2tensorrt/utils/py_utils.cc:38] TF-TRT Warning: Cannot dlopen some TensorRT libraries. If you would like to use Nvidia GPU with TensorRT, please make sure the missing libraries mentioned above are installed properly.\n"
     ]
    }
   ],
   "source": [
    "import tensorflow as tf"
   ]
  },
  {
   "cell_type": "code",
   "execution_count": 3,
   "id": "13399177",
   "metadata": {},
   "outputs": [],
   "source": [
    "import warnings\n",
    "warnings.filterwarnings('ignore')"
   ]
  },
  {
   "cell_type": "code",
   "execution_count": 4,
   "id": "7ff8fc87",
   "metadata": {},
   "outputs": [
    {
     "data": {
      "text/plain": [
       "<tf.Tensor: shape=(3,), dtype=int32, numpy=array([1, 2, 3], dtype=int32)>"
      ]
     },
     "execution_count": 4,
     "metadata": {},
     "output_type": "execute_result"
    }
   ],
   "source": [
    "# 리스트 형을 텐서로 int!!\n",
    "\n",
    "li_ten = tf.constant([1, 2, 3])\n",
    "li_ten"
   ]
  },
  {
   "cell_type": "code",
   "execution_count": 5,
   "id": "8f89d721",
   "metadata": {},
   "outputs": [
    {
     "data": {
      "text/plain": [
       "<tf.Tensor: shape=(3,), dtype=float32, numpy=array([1., 2., 3.], dtype=float32)>"
      ]
     },
     "execution_count": 5,
     "metadata": {},
     "output_type": "execute_result"
    }
   ],
   "source": [
    "## 이번에는 Float 형 텐서로!!\n",
    "\n",
    "li_ten_f = tf.constant([1., 2., 3.])\n",
    "li_ten_f"
   ]
  },
  {
   "cell_type": "code",
   "execution_count": 6,
   "id": "afb7e7c8",
   "metadata": {},
   "outputs": [
    {
     "data": {
      "text/plain": [
       "<tf.Tensor: shape=(2, 3), dtype=int32, numpy=\n",
       "array([[1, 2, 3],\n",
       "       [1, 2, 3]], dtype=int32)>"
      ]
     },
     "execution_count": 6,
     "metadata": {},
     "output_type": "execute_result"
    }
   ],
   "source": [
    "## 이번에는 튜플을 텐서로!!\n",
    "\n",
    "tu_ten = tf.constant(((1, 2, 3), (1, 2, 3)))\n",
    "tu_ten"
   ]
  },
  {
   "cell_type": "code",
   "execution_count": 7,
   "id": "e3c149f8",
   "metadata": {},
   "outputs": [
    {
     "data": {
      "text/plain": [
       "<tf.Tensor: shape=(3,), dtype=float64, numpy=array([1., 2., 3.])>"
      ]
     },
     "execution_count": 7,
     "metadata": {},
     "output_type": "execute_result"
    }
   ],
   "source": [
    "## 넘파이를 텐서로 가능!!\n",
    "\n",
    "import numpy as np\n",
    "\n",
    "arr = np.array([1., 2., 3.])\n",
    "arr_ten = tf.constant(arr)\n",
    "arr_ten"
   ]
  },
  {
   "cell_type": "code",
   "execution_count": 8,
   "id": "dc75987a",
   "metadata": {},
   "outputs": [
    {
     "data": {
      "text/plain": [
       "(array([1., 2., 3.]), numpy.ndarray)"
      ]
     },
     "execution_count": 8,
     "metadata": {},
     "output_type": "execute_result"
    }
   ],
   "source": [
    "## 텐서를 넘파이로!!\n",
    "\n",
    "arr_ten.numpy(), type(arr_ten.numpy())"
   ]
  },
  {
   "cell_type": "code",
   "execution_count": 9,
   "id": "992af016",
   "metadata": {},
   "outputs": [
    {
     "data": {
      "text/plain": [
       "(TensorShape([3]), TensorShape([2, 3]))"
      ]
     },
     "execution_count": 9,
     "metadata": {},
     "output_type": "execute_result"
    }
   ],
   "source": [
    "## shape 이나 dtype을 확인하기\n",
    "\n",
    "li_ten.shape, tu_ten.shape"
   ]
  },
  {
   "cell_type": "code",
   "execution_count": 10,
   "id": "06b18bc0",
   "metadata": {},
   "outputs": [
    {
     "data": {
      "text/plain": [
       "(tf.float64, tf.int32)"
      ]
     },
     "execution_count": 10,
     "metadata": {},
     "output_type": "execute_result"
    }
   ],
   "source": [
    "arr_ten.dtype, li_ten.dtype"
   ]
  },
  {
   "cell_type": "code",
   "execution_count": 11,
   "id": "d401ed75",
   "metadata": {},
   "outputs": [
    {
     "data": {
      "text/plain": [
       "<tf.Tensor: shape=(3,), dtype=float32, numpy=array([1., 2., 3.], dtype=float32)>"
      ]
     },
     "execution_count": 11,
     "metadata": {},
     "output_type": "execute_result"
    }
   ],
   "source": [
    "## 방금처럼 텐서로 지정하거나 \n",
    "\n",
    "tensor = tf.constant([1, 2, 3], dtype=tf.float32)\n",
    "tensor"
   ]
  },
  {
   "cell_type": "code",
   "execution_count": 14,
   "id": "727621bd",
   "metadata": {},
   "outputs": [
    {
     "data": {
      "text/plain": [
       "<tf.Tensor: shape=(3,), dtype=int16, numpy=array([1, 2, 3], dtype=int16)>"
      ]
     },
     "execution_count": 14,
     "metadata": {},
     "output_type": "execute_result"
    }
   ],
   "source": [
    "## cast를 사용하여 형 변환이 가능\n",
    "\n",
    "tf.cast(tensor, dtype=tf.int16)"
   ]
  },
  {
   "cell_type": "code",
   "execution_count": 15,
   "id": "624110a8",
   "metadata": {},
   "outputs": [
    {
     "data": {
      "text/plain": [
       "<tf.Tensor: shape=(1,), dtype=float32, numpy=array([1.], dtype=float32)>"
      ]
     },
     "execution_count": 15,
     "metadata": {},
     "output_type": "execute_result"
    }
   ],
   "source": [
    "# 1로 채우는 텐서도 만들 수 있따.\n",
    "\n",
    "tf.ones(1)"
   ]
  },
  {
   "cell_type": "code",
   "execution_count": 16,
   "id": "2f5fff0d",
   "metadata": {},
   "outputs": [
    {
     "data": {
      "text/plain": [
       "<tf.Tensor: shape=(2, 5), dtype=int32, numpy=\n",
       "array([[0, 0, 0, 0, 0],\n",
       "       [0, 0, 0, 0, 0]], dtype=int32)>"
      ]
     },
     "execution_count": 16,
     "metadata": {},
     "output_type": "execute_result"
    }
   ],
   "source": [
    "tf.zeros((2, 5), dtype=\"int32\")"
   ]
  },
  {
   "cell_type": "code",
   "execution_count": 17,
   "id": "edb48ed8",
   "metadata": {},
   "outputs": [
    {
     "data": {
      "text/plain": [
       "<tf.Tensor: shape=(10,), dtype=int32, numpy=array([0, 1, 2, 3, 4, 5, 6, 7, 8, 9], dtype=int32)>"
      ]
     },
     "execution_count": 17,
     "metadata": {},
     "output_type": "execute_result"
    }
   ],
   "source": [
    "## 텐서플로우에도 Range가 가능하다!!\n",
    "\n",
    "tf.range(10)"
   ]
  },
  {
   "cell_type": "code",
   "execution_count": 18,
   "id": "ab6bc72a",
   "metadata": {},
   "outputs": [
    {
     "data": {
      "text/plain": [
       "<tf.Tensor: shape=(10,), dtype=int32, numpy=array([ 1,  2,  3,  4,  5,  6,  7,  8,  9, 10], dtype=int32)>"
      ]
     },
     "execution_count": 18,
     "metadata": {},
     "output_type": "execute_result"
    }
   ],
   "source": [
    "tf.range(1, 11)"
   ]
  },
  {
   "cell_type": "markdown",
   "id": "d57558c7",
   "metadata": {},
   "source": [
    "### 텐서로 등비수열 만들기!!\n",
    "> __참고로 빠른 동작을 위해서는 반복문을 최대한 지양하는 것이 좋다__"
   ]
  },
  {
   "cell_type": "code",
   "execution_count": 21,
   "id": "dd391d6f",
   "metadata": {},
   "outputs": [],
   "source": [
    "def geometric_sequence(n):\n",
    "    r = tf.range(n, dtype='int32')\n",
    "    s = tf.ones(n, dtype=tf.int32)* 2\n",
    "    return s**r"
   ]
  },
  {
   "cell_type": "code",
   "execution_count": 22,
   "id": "64b2ae83",
   "metadata": {},
   "outputs": [
    {
     "name": "stdout",
     "output_type": "stream",
     "text": [
      "tf.Tensor([  1   2   4   8  16  32  64 128 256 512], shape=(10,), dtype=int32)\n"
     ]
    }
   ],
   "source": [
    "# 위 코딩 기법은 굉장히 중요!!\n",
    "\n",
    "print(geometric_sequence(10))"
   ]
  },
  {
   "cell_type": "code",
   "execution_count": 23,
   "id": "77e73812",
   "metadata": {},
   "outputs": [
    {
     "data": {
      "text/plain": [
       "<tf.Tensor: shape=(3, 3), dtype=float32, numpy=\n",
       "array([[-0.17091158,  0.08330786,  0.7003735 ],\n",
       "       [ 0.27586544, -1.6199648 , -1.7641399 ],\n",
       "       [-0.6069905 , -0.30424544, -0.13784763]], dtype=float32)>"
      ]
     },
     "execution_count": 23,
     "metadata": {},
     "output_type": "execute_result"
    }
   ],
   "source": [
    "## 랜덤 만들기!!\n",
    "\n",
    "shape = (3, 3)\n",
    "tf.random.normal(shape)"
   ]
  },
  {
   "cell_type": "code",
   "execution_count": 24,
   "id": "eb0916ac",
   "metadata": {},
   "outputs": [
    {
     "name": "stdout",
     "output_type": "stream",
     "text": [
      "tf.Tensor([0.5983684], shape=(1,), dtype=float32)\n",
      "tf.Tensor([0.53933334], shape=(1,), dtype=float32)\n"
     ]
    }
   ],
   "source": [
    "## 텐서플로우에서 랜덤 시드 관리하기!!\n",
    "\n",
    "tf.random.set_seed(13)\n",
    "a = tf.random.uniform([1])\n",
    "b = tf.random.uniform([1])\n",
    "print(a, b, sep='\\n')"
   ]
  },
  {
   "cell_type": "code",
   "execution_count": 26,
   "id": "720d79a8",
   "metadata": {},
   "outputs": [
    {
     "name": "stdout",
     "output_type": "stream",
     "text": [
      "tf.Tensor([0.27229798], shape=(1,), dtype=float32)\n",
      "tf.Tensor([0.5121772], shape=(1,), dtype=float32)\n"
     ]
    }
   ],
   "source": [
    "## 랜덤시드를 안넣으니 다른 랜덤한 값이 나온다!!\n",
    "\n",
    "a = tf.random.uniform([1])\n",
    "b = tf.random.uniform([1])\n",
    "print(a, b, sep='\\n')"
   ]
  },
  {
   "cell_type": "code",
   "execution_count": 27,
   "id": "a47b1c61",
   "metadata": {},
   "outputs": [
    {
     "name": "stdout",
     "output_type": "stream",
     "text": [
      "tf.Tensor([0.5983684], shape=(1,), dtype=float32)\n",
      "tf.Tensor([0.53933334], shape=(1,), dtype=float32)\n"
     ]
    }
   ],
   "source": [
    "## 시드 설정을 사용하는 이유\n",
    "\n",
    "tf.random.set_seed(13)\n",
    "a = tf.random.uniform([1])\n",
    "b = tf.random.uniform([1])\n",
    "print(a, b, sep='\\n')"
   ]
  },
  {
   "cell_type": "code",
   "execution_count": null,
   "id": "08b0e6b3",
   "metadata": {},
   "outputs": [],
   "source": []
  },
  {
   "cell_type": "code",
   "execution_count": null,
   "id": "df26d271",
   "metadata": {},
   "outputs": [],
   "source": []
  },
  {
   "cell_type": "markdown",
   "id": "fa1dc53a",
   "metadata": {},
   "source": [
    "## Variable \n",
    "### 변수로 선언하기"
   ]
  },
  {
   "cell_type": "code",
   "execution_count": 29,
   "id": "26c95322",
   "metadata": {},
   "outputs": [
    {
     "name": "stdout",
     "output_type": "stream",
     "text": [
      "<tf.Variable 'Variable:0' shape=(2, 2) dtype=float32, numpy=\n",
      "array([[1., 2.],\n",
      "       [3., 4.]], dtype=float32)>\n",
      "<tf.Variable 'Variable:0' shape=(2, 2) dtype=int64, numpy=\n",
      "array([[1, 2],\n",
      "       [3, 4]])>\n",
      "<tf.Variable 'Variable:0' shape=(2, 2) dtype=int32, numpy=\n",
      "array([[1, 2],\n",
      "       [3, 4]], dtype=int32)>\n"
     ]
    }
   ],
   "source": [
    "tensor = tf.constant([[1., 2.], [3., 4.]])\n",
    "arr = np.array([[1, 2], [3, 4]])\n",
    "li = [[1,2], [3, 4]]\n",
    "\n",
    "te_var = tf.Variable(tensor)\n",
    "arr_var = tf.Variable(arr)\n",
    "li_var = tf.Variable(li)\n",
    "\n",
    "print(te_var)\n",
    "print(arr_var)\n",
    "print(li_var)"
   ]
  },
  {
   "cell_type": "code",
   "execution_count": 31,
   "id": "3b6bebd3",
   "metadata": {},
   "outputs": [
    {
     "name": "stdout",
     "output_type": "stream",
     "text": [
      "Shape : (2, 2)\n",
      "---\n",
      "DType : <dtype: 'float32'>\n",
      "---\n",
      "As Numpy : <bound method BaseResourceVariable.numpy of <tf.Variable 'Variable:0' shape=(2, 2) dtype=float32, numpy=\n",
      "array([[1., 2.],\n",
      "       [3., 4.]], dtype=float32)>>\n"
     ]
    }
   ],
   "source": [
    "print(\"Shape :\", te_var.shape)\n",
    "print('---')\n",
    "print(\"DType :\", te_var.dtype)\n",
    "print('---')\n",
    "print(\"As Numpy :\", te_var.numpy)"
   ]
  },
  {
   "cell_type": "code",
   "execution_count": 32,
   "id": "2b42f69f",
   "metadata": {},
   "outputs": [
    {
     "name": "stdout",
     "output_type": "stream",
     "text": [
      "First : <tf.Variable 'Variable:0' shape=(2,) dtype=float32, numpy=array([2., 3.], dtype=float32)> \n",
      "\n",
      "Second : <tf.Variable 'Variable:0' shape=(2,) dtype=float32, numpy=array([1., 2.], dtype=float32)> \n",
      "\n"
     ]
    }
   ],
   "source": [
    "## 메모리를 허비 하지  않고 재할당을 해보자!!\n",
    "\n",
    "a = tf.Variable([2., 3.])\n",
    "print(\"First :\", a, \"\\n\")\n",
    "\n",
    "a.assign([1, 2])\n",
    "print(\"Second :\", a, \"\\n\")\n"
   ]
  },
  {
   "cell_type": "markdown",
   "id": "7ebcf62e",
   "metadata": {},
   "source": [
    "### 텐서 연산"
   ]
  },
  {
   "cell_type": "code",
   "execution_count": 33,
   "id": "7dde146f",
   "metadata": {},
   "outputs": [],
   "source": [
    "a = tf.range(6, dtype=tf.int32)\n",
    "b = 2 * tf.ones(6, dtype=tf.int32)"
   ]
  },
  {
   "cell_type": "code",
   "execution_count": 34,
   "id": "f47cd4a9",
   "metadata": {},
   "outputs": [
    {
     "data": {
      "text/plain": [
       "<tf.Tensor: shape=(6,), dtype=int32, numpy=array([2, 3, 4, 5, 6, 7], dtype=int32)>"
      ]
     },
     "execution_count": 34,
     "metadata": {},
     "output_type": "execute_result"
    }
   ],
   "source": [
    "tf.add(a, b)"
   ]
  },
  {
   "cell_type": "code",
   "execution_count": 35,
   "id": "35ec69ec",
   "metadata": {},
   "outputs": [
    {
     "data": {
      "text/plain": [
       "<tf.Tensor: shape=(6,), dtype=int32, numpy=array([2, 3, 4, 5, 6, 7], dtype=int32)>"
      ]
     },
     "execution_count": 35,
     "metadata": {},
     "output_type": "execute_result"
    }
   ],
   "source": [
    "a+ b\n",
    "\n",
    "# 위 두개가 사실은 같다"
   ]
  },
  {
   "cell_type": "code",
   "execution_count": 38,
   "id": "ca5e113a",
   "metadata": {},
   "outputs": [
    {
     "data": {
      "text/plain": [
       "<tf.Tensor: shape=(6,), dtype=int32, numpy=array([2, 2, 2, 3, 4, 5], dtype=int32)>"
      ]
     },
     "execution_count": 38,
     "metadata": {},
     "output_type": "execute_result"
    }
   ],
   "source": [
    "# 최대값 \n",
    "tf.maximum(a, b)"
   ]
  },
  {
   "cell_type": "code",
   "execution_count": 39,
   "id": "501248f2",
   "metadata": {},
   "outputs": [
    {
     "data": {
      "text/plain": [
       "<tf.Tensor: shape=(3, 3), dtype=float32, numpy=\n",
       "array([[-0.9487271 ,  1.3044667 , -1.1531729 ],\n",
       "       [-0.28560743,  0.48564127, -0.9099395 ],\n",
       "       [-0.96096003,  1.3391656 , -0.11258006]], dtype=float32)>"
      ]
     },
     "execution_count": 39,
     "metadata": {},
     "output_type": "execute_result"
    }
   ],
   "source": [
    "# 연습용 텐서 제작\n",
    "\n",
    "rank_2 = tf.random.normal((3, 3))\n",
    "rank_2"
   ]
  },
  {
   "cell_type": "code",
   "execution_count": 40,
   "id": "006eed07",
   "metadata": {},
   "outputs": [
    {
     "data": {
      "text/plain": [
       "<tf.Tensor: shape=(3,), dtype=float32, numpy=array([-0.9487271,  1.3044667, -1.1531729], dtype=float32)>"
      ]
     },
     "execution_count": 40,
     "metadata": {},
     "output_type": "execute_result"
    }
   ],
   "source": [
    "rank_2[0]\n",
    "\n",
    "# 첫번째 행"
   ]
  },
  {
   "cell_type": "code",
   "execution_count": 41,
   "id": "d9cbd404",
   "metadata": {},
   "outputs": [
    {
     "data": {
      "text/plain": [
       "<tf.Tensor: shape=(), dtype=float32, numpy=-0.9487271>"
      ]
     },
     "execution_count": 41,
     "metadata": {},
     "output_type": "execute_result"
    }
   ],
   "source": [
    "rank_2[0, 0]\n",
    "\n",
    "# 첫번째 열, 첫번째 행\n"
   ]
  },
  {
   "cell_type": "code",
   "execution_count": 42,
   "id": "15175d2e",
   "metadata": {},
   "outputs": [
    {
     "data": {
      "text/plain": [
       "<tf.Tensor: shape=(3, 3, 3), dtype=float32, numpy=\n",
       "array([[[-0.1856016 , -1.1418061 ,  0.0194767 ],\n",
       "        [-2.7855177 ,  1.2621061 , -1.2295452 ],\n",
       "        [-0.9714309 , -0.35085803,  1.1138306 ]],\n",
       "\n",
       "       [[ 0.9682026 , -1.9595007 ,  1.0642354 ],\n",
       "        [ 1.494038  , -1.1601017 ,  1.4813476 ],\n",
       "        [-0.21271256,  1.0881292 ,  0.31397238]],\n",
       "\n",
       "       [[-0.52992046,  0.19140598, -0.2779634 ],\n",
       "        [-1.2172662 ,  0.5619219 , -2.132913  ],\n",
       "        [ 0.8605408 ,  0.65008086,  0.33721906]]], dtype=float32)>"
      ]
     },
     "execution_count": 42,
     "metadata": {},
     "output_type": "execute_result"
    }
   ],
   "source": [
    "## 3차원짜리 텐서 제작\n",
    "\n",
    "ranl_3 = tf.random.normal((3, 3, 3))\n",
    "ranl_3"
   ]
  },
  {
   "cell_type": "code",
   "execution_count": 43,
   "id": "e349a92e",
   "metadata": {},
   "outputs": [
    {
     "data": {
      "text/plain": [
       "<tf.Tensor: shape=(3, 3, 3, 3), dtype=float32, numpy=\n",
       "array([[[[ 1.3927455 , -0.45965314,  0.49407616],\n",
       "         [ 0.17237075,  0.93350935,  1.6913122 ],\n",
       "         [ 0.91713065, -0.16278401,  0.3994191 ]],\n",
       "\n",
       "        [[ 1.3299477 , -0.16608767,  0.52453625],\n",
       "         [-0.825861  , -0.39364755,  0.15490197],\n",
       "         [-0.7261836 , -0.21677208,  0.14307553]],\n",
       "\n",
       "        [[-0.7616838 , -1.7694571 , -1.2084615 ],\n",
       "         [ 0.15294294,  0.61789715,  0.75220877],\n",
       "         [-0.9087012 ,  0.34433067, -0.1459559 ]]],\n",
       "\n",
       "\n",
       "       [[[ 2.2195857 , -0.9483894 , -0.72741896],\n",
       "         [-0.09788546, -0.74635005,  1.6196522 ],\n",
       "         [-1.339364  ,  0.10365214,  1.5238657 ]],\n",
       "\n",
       "        [[ 1.970443  , -1.9742427 ,  1.646089  ],\n",
       "         [-0.10265194, -0.14842309,  0.6076201 ],\n",
       "         [ 0.31007034, -0.16753197, -0.6445421 ]],\n",
       "\n",
       "        [[-0.11728214, -0.38824674,  0.31977358],\n",
       "         [-0.8027508 , -1.8807936 ,  0.35686776],\n",
       "         [-1.498092  , -1.8625052 ,  1.2523474 ]]],\n",
       "\n",
       "\n",
       "       [[[ 1.9372497 , -1.0422333 , -0.896427  ],\n",
       "         [-0.2374812 , -0.6838861 , -1.3482342 ],\n",
       "         [ 0.41981524,  0.6032611 , -2.714812  ]],\n",
       "\n",
       "        [[-1.3464243 , -1.1303519 ,  0.9735961 ],\n",
       "         [ 0.5794143 , -0.42320266, -1.8371418 ],\n",
       "         [-0.08561901, -1.5159502 ,  0.37542394]],\n",
       "\n",
       "        [[-1.120613  ,  0.29542217, -0.54509264],\n",
       "         [-1.2684476 , -1.0359796 ,  1.9996897 ],\n",
       "         [-0.7616689 , -1.2454214 ,  0.05226924]]]], dtype=float32)>"
      ]
     },
     "execution_count": 43,
     "metadata": {},
     "output_type": "execute_result"
    }
   ],
   "source": [
    "### 4차원짜리 텐서 \n",
    "\n",
    "rank_4 = tf.random.normal((3, 3, 3, 3))\n",
    "rank_4"
   ]
  },
  {
   "cell_type": "code",
   "execution_count": 44,
   "id": "4a49060b",
   "metadata": {},
   "outputs": [
    {
     "name": "stderr",
     "output_type": "stream",
     "text": [
      "2022-11-28 17:27:37.021568: I tensorflow/compiler/xla/stream_executor/cuda/cuda_blas.cc:630] TensorFloat-32 will be used for the matrix multiplication. This will only be logged once.\n"
     ]
    },
    {
     "data": {
      "text/plain": [
       "<tf.Tensor: shape=(2, 2), dtype=float32, numpy=\n",
       "array([[2., 2.],\n",
       "       [1., 1.]], dtype=float32)>"
      ]
     },
     "execution_count": 44,
     "metadata": {},
     "output_type": "execute_result"
    }
   ],
   "source": [
    "## 행렬 곱\n",
    "\n",
    "a = tf.constant([[2, 0], [0, 1]], dtype=tf.float32)\n",
    "b = tf.constant([[1, 1], [1, 1]], dtype=tf.float32)\n",
    "tf.matmul(a, b)"
   ]
  },
  {
   "cell_type": "code",
   "execution_count": 45,
   "id": "82d6c926",
   "metadata": {},
   "outputs": [
    {
     "name": "stderr",
     "output_type": "stream",
     "text": [
      "2022-11-28 17:28:17.018652: I tensorflow/core/util/cuda_solvers.cc:179] Creating GpuSolver handles for stream 0x7682ff0\n"
     ]
    },
    {
     "data": {
      "text/plain": [
       "<tf.Tensor: shape=(2, 2), dtype=float32, numpy=\n",
       "array([[0.5, 0. ],\n",
       "       [0. , 1. ]], dtype=float32)>"
      ]
     },
     "execution_count": 45,
     "metadata": {},
     "output_type": "execute_result"
    }
   ],
   "source": [
    "## 역행렬\n",
    "a = tf.constant([[2, 0], [0, 1]], dtype=tf.float32)\n",
    "tf.linalg.inv(a)"
   ]
  },
  {
   "cell_type": "code",
   "execution_count": 46,
   "id": "85f9ecbc",
   "metadata": {},
   "outputs": [
    {
     "name": "stdout",
     "output_type": "stream",
     "text": [
      "a    : tf.Tensor([0 1 2 3 4 5], shape=(6,), dtype=int32) \n",
      "\n"
     ]
    }
   ],
   "source": [
    "## 테스트용 제작\n",
    "\n",
    "a = tf.range(6, dtype=tf.int32)\n",
    "print(\"a    :\", a, '\\n')"
   ]
  },
  {
   "cell_type": "code",
   "execution_count": 47,
   "id": "e9024d7f",
   "metadata": {},
   "outputs": [
    {
     "name": "stdout",
     "output_type": "stream",
     "text": [
      "a     : tf.Tensor([0 1 2 3 4 5], shape=(6,), dtype=int32)\n",
      "a_2d  : tf.Tensor(\n",
      "[[0 1 2]\n",
      " [3 4 5]], shape=(2, 3), dtype=int32) \n",
      "\n"
     ]
    }
   ],
   "source": [
    "## 행렬의 크기 변경\n",
    "\n",
    "a_2d = tf.reshape(a, (2, 3))\n",
    "print(\"a     :\", a)\n",
    "print(\"a_2d  :\", a_2d, \"\\n\")"
   ]
  },
  {
   "cell_type": "code",
   "execution_count": 48,
   "id": "e077a66c",
   "metadata": {},
   "outputs": [
    {
     "name": "stdout",
     "output_type": "stream",
     "text": [
      "a_2d   : tf.Tensor(\n",
      "[[0 1 2]\n",
      " [3 4 5]], shape=(2, 3), dtype=int32)\n",
      "a_2d_t : tf.Tensor(\n",
      "[[0 3]\n",
      " [1 4]\n",
      " [2 5]], shape=(3, 2), dtype=int32) \n",
      "\n"
     ]
    }
   ],
   "source": [
    "## 전치\n",
    "\n",
    "a_2d_t = tf.transpose(a_2d)\n",
    "print(\"a_2d   :\", a_2d)\n",
    "print(\"a_2d_t :\", a_2d_t, \"\\n\")"
   ]
  },
  {
   "cell_type": "code",
   "execution_count": 49,
   "id": "c8e0486e",
   "metadata": {},
   "outputs": [
    {
     "name": "stdout",
     "output_type": "stream",
     "text": [
      "a_2d   : tf.Tensor(\n",
      "[[0 1 2]\n",
      " [3 4 5]], shape=(2, 3), dtype=int32)\n",
      "a_3d   : tf.Tensor(\n",
      "[[[0 1 2]\n",
      "  [3 4 5]]], shape=(1, 2, 3), dtype=int32) \n",
      "\n"
     ]
    }
   ],
   "source": [
    "## 첫번째 차원 늘리기\n",
    "\n",
    "a_3d = tf.expand_dims(a_2d, 0)\n",
    "print(\"a_2d   :\", a_2d)\n",
    "print(\"a_3d   :\", a_3d, '\\n')"
   ]
  },
  {
   "cell_type": "code",
   "execution_count": 50,
   "id": "b6611927",
   "metadata": {},
   "outputs": [
    {
     "name": "stdout",
     "output_type": "stream",
     "text": [
      "a_3d   : tf.Tensor(\n",
      "[[[0 1 2]\n",
      "  [3 4 5]]], shape=(1, 2, 3), dtype=int32)\n",
      "a_4d   : tf.Tensor(\n",
      "[[[[0]\n",
      "   [1]\n",
      "   [2]]\n",
      "\n",
      "  [[3]\n",
      "   [4]\n",
      "   [5]]]], shape=(1, 2, 3, 1), dtype=int32) \n",
      "\n"
     ]
    }
   ],
   "source": [
    "# 마지막 차원 늘리기\n",
    "\n",
    "a_4d = tf.expand_dims(a_3d, 3)\n",
    "print(\"a_3d   :\", a_3d)\n",
    "print(\"a_4d   :\", a_4d, '\\n')"
   ]
  },
  {
   "cell_type": "code",
   "execution_count": 51,
   "id": "38679b8e",
   "metadata": {},
   "outputs": [
    {
     "name": "stdout",
     "output_type": "stream",
     "text": [
      "a_4d   : tf.Tensor(\n",
      "[[[[0]\n",
      "   [1]\n",
      "   [2]]\n",
      "\n",
      "  [[3]\n",
      "   [4]\n",
      "   [5]]]], shape=(1, 2, 3, 1), dtype=int32)\n",
      "a_1d   : tf.Tensor(\n",
      "[[0 1 2]\n",
      " [3 4 5]], shape=(2, 3), dtype=int32) \n",
      "\n"
     ]
    }
   ],
   "source": [
    "### 차원의 크기가 1인 것 정리하기!!!\n",
    "### 생각보다 자주 쓰이는 함수이니 기억해놓자\n",
    "\n",
    "a_1d = tf.squeeze(a_4d)\n",
    "print(\"a_4d   :\", a_4d)\n",
    "print(\"a_1d   :\", a_1d, '\\n')"
   ]
  },
  {
   "cell_type": "code",
   "execution_count": 52,
   "id": "835b4ec7",
   "metadata": {},
   "outputs": [
    {
     "data": {
      "text/plain": [
       "<tf.Tensor: shape=(3, 4), dtype=int32, numpy=\n",
       "array([[ 0,  1,  2,  3],\n",
       "       [ 4,  5,  6,  7],\n",
       "       [ 8,  9, 10, 11]], dtype=int32)>"
      ]
     },
     "execution_count": 52,
     "metadata": {},
     "output_type": "execute_result"
    }
   ],
   "source": [
    "## 다시 연습용 텐서 제작\n",
    "\n",
    "a = tf.reshape(tf.range(12), (3, 4))\n",
    "a"
   ]
  },
  {
   "cell_type": "code",
   "execution_count": 53,
   "id": "c3b4d585",
   "metadata": {},
   "outputs": [
    {
     "data": {
      "text/plain": [
       "<tf.Tensor: shape=(2, 3), dtype=int32, numpy=\n",
       "array([[1, 2, 3],\n",
       "       [5, 6, 7]], dtype=int32)>"
      ]
     },
     "execution_count": 53,
     "metadata": {},
     "output_type": "execute_result"
    }
   ],
   "source": [
    "tf.slice(a, [0, 1], [2, 3])"
   ]
  },
  {
   "cell_type": "code",
   "execution_count": 54,
   "id": "9d91bf29",
   "metadata": {},
   "outputs": [
    {
     "name": "stdout",
     "output_type": "stream",
     "text": [
      "tf.Tensor(\n",
      "[[0 1]\n",
      " [4 5]\n",
      " [8 9]], shape=(3, 2), dtype=int32)\n",
      "tf.Tensor(\n",
      "[[ 2  3]\n",
      " [ 6  7]\n",
      " [10 11]], shape=(3, 2), dtype=int32)\n"
     ]
    }
   ],
   "source": [
    "## 가로축을 따라 2개로 분리\n",
    "\n",
    "a1, a2 = tf.split(a, num_or_size_splits=2, axis=1)\n",
    "print(a1)\n",
    "print(a2)"
   ]
  },
  {
   "cell_type": "code",
   "execution_count": 55,
   "id": "f44069ac",
   "metadata": {},
   "outputs": [
    {
     "data": {
      "text/plain": [
       "<tf.Tensor: shape=(3, 4), dtype=int32, numpy=\n",
       "array([[ 0,  1,  2,  3],\n",
       "       [ 4,  5,  6,  7],\n",
       "       [ 8,  9, 10, 11]], dtype=int32)>"
      ]
     },
     "execution_count": 55,
     "metadata": {},
     "output_type": "execute_result"
    }
   ],
   "source": [
    "tf.concat([a1, a2], 1)"
   ]
  },
  {
   "cell_type": "code",
   "execution_count": 56,
   "id": "877fdc7d",
   "metadata": {},
   "outputs": [
    {
     "data": {
      "text/plain": [
       "<tf.Tensor: shape=(3, 6), dtype=int32, numpy=\n",
       "array([[0, 1, 0, 1, 0, 1],\n",
       "       [4, 5, 4, 5, 4, 5],\n",
       "       [8, 9, 8, 9, 8, 9]], dtype=int32)>"
      ]
     },
     "execution_count": 56,
     "metadata": {},
     "output_type": "execute_result"
    }
   ],
   "source": [
    "### 가로축 따로 세 개로 확대\n",
    "\n",
    "tf.tile(a1, [1, 3])   # 가로축 (axis=1)을 따라 3개로 복사 붙이기"
   ]
  },
  {
   "cell_type": "code",
   "execution_count": 57,
   "id": "03296377",
   "metadata": {},
   "outputs": [
    {
     "data": {
      "text/plain": [
       "<tf.Tensor: shape=(2, 3, 2), dtype=int32, numpy=\n",
       "array([[[ 0,  1],\n",
       "        [ 4,  5],\n",
       "        [ 8,  9]],\n",
       "\n",
       "       [[ 2,  3],\n",
       "        [ 6,  7],\n",
       "        [10, 11]]], dtype=int32)>"
      ]
     },
     "execution_count": 57,
     "metadata": {},
     "output_type": "execute_result"
    }
   ],
   "source": [
    "## 스택은 차원을 늘리면서 허ㅏㅂ치기\n",
    "\n",
    "# 3X2 행렬 a1, a2를 추가적인 차원으로 붙여서 2x3x2 고차원 텐서 생성\n",
    "\n",
    "a3 = tf.stack([a1, a2])\n",
    "a3"
   ]
  },
  {
   "cell_type": "code",
   "execution_count": null,
   "id": "df8a4b2b",
   "metadata": {},
   "outputs": [],
   "source": []
  }
 ],
 "metadata": {
  "kernelspec": {
   "display_name": "Python 3 (ipykernel)",
   "language": "python",
   "name": "python3"
  },
  "language_info": {
   "codemirror_mode": {
    "name": "ipython",
    "version": 3
   },
   "file_extension": ".py",
   "mimetype": "text/x-python",
   "name": "python",
   "nbconvert_exporter": "python",
   "pygments_lexer": "ipython3",
   "version": "3.8.10"
  }
 },
 "nbformat": 4,
 "nbformat_minor": 5
}
